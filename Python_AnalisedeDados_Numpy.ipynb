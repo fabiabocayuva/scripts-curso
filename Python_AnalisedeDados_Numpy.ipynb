{
  "nbformat": 4,
  "nbformat_minor": 0,
  "metadata": {
    "colab": {
      "name": "Python_AnalisedeDados_Numpy.ipynb",
      "provenance": [],
      "authorship_tag": "ABX9TyOKFCFHbnv93S9IyI1cM6nc"
    },
    "kernelspec": {
      "name": "python3",
      "display_name": "Python 3"
    },
    "language_info": {
      "name": "python"
    }
  },
  "cells": [
    {
      "cell_type": "markdown",
      "metadata": {
        "id": "fMwPKjMJxYYB"
      },
      "source": [
        "# ***NUMPY - Python para Análise de Dados*** \n",
        "\n",
        "Biblioteca que possue objeto do tipo array de alta performance e permite realizar operações complexas com matrizes.\n",
        "Possui uma coleção de ferramentas que podem ser usadas para problemas matemáticos. "
      ]
    },
    {
      "cell_type": "markdown",
      "metadata": {
        "id": "xWoErEFZ0cUP"
      },
      "source": [
        "## **Criando Arrays Numpy**"
      ]
    },
    {
      "cell_type": "code",
      "metadata": {
        "id": "sjHevxrGx4Lf"
      },
      "source": [
        "# Importando a biblioteca numpy\n",
        "import numpy as np"
      ],
      "execution_count": null,
      "outputs": []
    },
    {
      "cell_type": "code",
      "metadata": {
        "colab": {
          "base_uri": "https://localhost:8080/"
        },
        "id": "dDrEI18Qx_7l",
        "outputId": "aaee292f-85cc-4ea1-81df-a6206ab7c529"
      },
      "source": [
        "# Criando um array de 1 dimensão\n",
        "one_dim = np.array([1,2,3,4])\n",
        "one_dim"
      ],
      "execution_count": null,
      "outputs": [
        {
          "output_type": "execute_result",
          "data": {
            "text/plain": [
              "array([1, 2, 3, 4])"
            ]
          },
          "metadata": {
            "tags": []
          },
          "execution_count": 8
        }
      ]
    },
    {
      "cell_type": "code",
      "metadata": {
        "colab": {
          "base_uri": "https://localhost:8080/"
        },
        "id": "O8VrkWSMyJh-",
        "outputId": "e451ec25-9564-4d03-8f79-04ef38833025"
      },
      "source": [
        "type(one_dim)"
      ],
      "execution_count": null,
      "outputs": [
        {
          "output_type": "execute_result",
          "data": {
            "text/plain": [
              "numpy.ndarray"
            ]
          },
          "metadata": {
            "tags": []
          },
          "execution_count": 4
        }
      ]
    },
    {
      "cell_type": "code",
      "metadata": {
        "colab": {
          "base_uri": "https://localhost:8080/"
        },
        "id": "pJh-j4ORyPy9",
        "outputId": "fcc95225-a6a4-4151-fcf1-059647aa6380"
      },
      "source": [
        "# Imprimindo um array\n",
        "one_dim.ndim"
      ],
      "execution_count": null,
      "outputs": [
        {
          "output_type": "execute_result",
          "data": {
            "text/plain": [
              "1"
            ]
          },
          "metadata": {
            "tags": []
          },
          "execution_count": 5
        }
      ]
    },
    {
      "cell_type": "code",
      "metadata": {
        "colab": {
          "base_uri": "https://localhost:8080/"
        },
        "id": "QtM7zQ5gyT8t",
        "outputId": "a8b5ef5b-2ff2-41ea-c092-a3b78c214a08"
      },
      "source": [
        "# Criando um array com 2 dimensões\n",
        "two_dim = np.array([(1,2,3),(4,5,6)])\n",
        "two_dim"
      ],
      "execution_count": null,
      "outputs": [
        {
          "output_type": "execute_result",
          "data": {
            "text/plain": [
              "array([[1, 2, 3],\n",
              "       [4, 5, 6]])"
            ]
          },
          "metadata": {
            "tags": []
          },
          "execution_count": 7
        }
      ]
    },
    {
      "cell_type": "code",
      "metadata": {
        "colab": {
          "base_uri": "https://localhost:8080/"
        },
        "id": "QR_-A_Oxye4q",
        "outputId": "e5cd395f-82ed-4a0a-c3b6-94de911f49af"
      },
      "source": [
        "# Criando um array de numéros aleatórios\n",
        "# Um array de 5 linhas e duas dimenões\n",
        "np.random.random((5,2))"
      ],
      "execution_count": null,
      "outputs": [
        {
          "output_type": "execute_result",
          "data": {
            "text/plain": [
              "array([[0.77097959, 0.11715185],\n",
              "       [0.89494393, 0.90619655],\n",
              "       [0.89753072, 0.38158508],\n",
              "       [0.38570901, 0.9028596 ],\n",
              "       [0.38600207, 0.60256261]])"
            ]
          },
          "metadata": {
            "tags": []
          },
          "execution_count": 9
        }
      ]
    },
    {
      "cell_type": "code",
      "metadata": {
        "colab": {
          "base_uri": "https://localhost:8080/"
        },
        "id": "wUJTCXcGy3sq",
        "outputId": "c3866a2c-c5ec-4ac0-d072-67f4527737ee"
      },
      "source": [
        "# Criando um array com valores esparsos iniciando com valor de 10 menor que 50 e incrementando de 5 em 5\n",
        "np.arange(10,50,5)"
      ],
      "execution_count": null,
      "outputs": [
        {
          "output_type": "execute_result",
          "data": {
            "text/plain": [
              "array([10, 15, 20, 25, 30, 35, 40, 45])"
            ]
          },
          "metadata": {
            "tags": []
          },
          "execution_count": 12
        }
      ]
    },
    {
      "cell_type": "code",
      "metadata": {
        "colab": {
          "base_uri": "https://localhost:8080/"
        },
        "id": "rbWn4cyMzH0Q",
        "outputId": "6ad21f30-1482-49b4-dee6-b7901fa1fef6"
      },
      "source": [
        "# Criando um array linear de 0 a 2 de no máximo 9 elementos \n",
        "np.linspace(0,2,9)"
      ],
      "execution_count": null,
      "outputs": [
        {
          "output_type": "execute_result",
          "data": {
            "text/plain": [
              "array([0.  , 0.25, 0.5 , 0.75, 1.  , 1.25, 1.5 , 1.75, 2.  ])"
            ]
          },
          "metadata": {
            "tags": []
          },
          "execution_count": 13
        }
      ]
    },
    {
      "cell_type": "code",
      "metadata": {
        "colab": {
          "base_uri": "https://localhost:8080/"
        },
        "id": "3nEAahgnzRgs",
        "outputId": "582c2bc0-88fd-4f13-81a4-5f7ec1c366f0"
      },
      "source": [
        "# Criando um array de valores zero: pode ser util para iniciar um array que recebe valor zero \n",
        "# Criando um array com 3 linhas e 4 dimensões \n",
        "np.zeros((3,4))"
      ],
      "execution_count": null,
      "outputs": [
        {
          "output_type": "execute_result",
          "data": {
            "text/plain": [
              "array([[0., 0., 0., 0.],\n",
              "       [0., 0., 0., 0.],\n",
              "       [0., 0., 0., 0.]])"
            ]
          },
          "metadata": {
            "tags": []
          },
          "execution_count": 14
        }
      ]
    },
    {
      "cell_type": "markdown",
      "metadata": {
        "id": "LOZYZXVbzjIs"
      },
      "source": [
        "## **Numpy Arrays vs Listas**\n",
        "\n",
        "* Arrays Numpy permitem fazermos operações em arrays completos de forma rápida, enquanto que em lista teria que fazer individualmente paara cada elemento\n",
        "* Listas não permitem operações em todos os elementos da lista\n",
        "* Para operações em todos os elemento é preciso interar sobre toda a lista\n",
        "* Listas em python armazenam diferentes tipos de objetos \n",
        "* Arrays Numpy considera todos os elementos de tipos distintos como strings \n"
      ]
    },
    {
      "cell_type": "code",
      "metadata": {
        "colab": {
          "base_uri": "https://localhost:8080/"
        },
        "id": "ZcrAQ39b0X3J",
        "outputId": "f0bf5de7-2c0d-4416-e4f3-f0e31dc2e715"
      },
      "source": [
        "# Criando uma lista em Python \n",
        "lista = [1,2,3]\n",
        "lista"
      ],
      "execution_count": null,
      "outputs": [
        {
          "output_type": "execute_result",
          "data": {
            "text/plain": [
              "[1, 2, 3]"
            ]
          },
          "metadata": {
            "tags": []
          },
          "execution_count": 17
        }
      ]
    },
    {
      "cell_type": "code",
      "metadata": {
        "colab": {
          "base_uri": "https://localhost:8080/"
        },
        "id": "ZY3UHcGY0xMb",
        "outputId": "9260d582-e6cc-4c4e-cb2d-db99c108af4c"
      },
      "source": [
        "# Multiplicar valores por 2: o python vai dobrar os elementos da lista \n",
        "lista * 2"
      ],
      "execution_count": null,
      "outputs": [
        {
          "output_type": "execute_result",
          "data": {
            "text/plain": [
              "[1, 2, 3, 1, 2, 3]"
            ]
          },
          "metadata": {
            "tags": []
          },
          "execution_count": 18
        }
      ]
    },
    {
      "cell_type": "code",
      "metadata": {
        "colab": {
          "base_uri": "https://localhost:8080/"
        },
        "id": "F6Gsqyou06Ng",
        "outputId": "6c9384b1-3bcb-4914-9728-1f82a08217b7"
      },
      "source": [
        "# Transforme a variavel lista em array numpy \n",
        "lista = np.array(lista)\n",
        "type(lista)"
      ],
      "execution_count": null,
      "outputs": [
        {
          "output_type": "execute_result",
          "data": {
            "text/plain": [
              "numpy.ndarray"
            ]
          },
          "metadata": {
            "tags": []
          },
          "execution_count": 20
        }
      ]
    },
    {
      "cell_type": "code",
      "metadata": {
        "colab": {
          "base_uri": "https://localhost:8080/"
        },
        "id": "zMA6Peax1Gx1",
        "outputId": "c504aefb-e3ae-4dee-b2ec-4830dc560d6f"
      },
      "source": [
        "# Multiplicando o array por 2\n",
        "lista * 2"
      ],
      "execution_count": null,
      "outputs": [
        {
          "output_type": "execute_result",
          "data": {
            "text/plain": [
              "array([2, 4, 6])"
            ]
          },
          "metadata": {
            "tags": []
          },
          "execution_count": 21
        }
      ]
    },
    {
      "cell_type": "code",
      "metadata": {
        "colab": {
          "base_uri": "https://localhost:8080/"
        },
        "id": "4U_y3uRz1NA3",
        "outputId": "f10a87fa-036f-4328-db68-3abc7f5cd259"
      },
      "source": [
        "# Exemplo 2: Calcular IMC de pessoas\n",
        "pesos = [67, 81, 120, 90]\n",
        "pesos = np.array(pesos)\n",
        "altura = [1.68,1.70,1.75,1.85]\n",
        "altura = np.array(altura)\n",
        "pesos / altura ** 2"
      ],
      "execution_count": null,
      "outputs": [
        {
          "output_type": "execute_result",
          "data": {
            "text/plain": [
              "array([23.73866213, 28.02768166, 39.18367347, 26.29656684])"
            ]
          },
          "metadata": {
            "tags": []
          },
          "execution_count": 24
        }
      ]
    },
    {
      "cell_type": "code",
      "metadata": {
        "colab": {
          "base_uri": "https://localhost:8080/"
        },
        "id": "0N8kbwv116YI",
        "outputId": "1851b879-a073-42dd-a5fc-6c06499bf0f3"
      },
      "source": [
        "# Arrays Numpy armazena elementos como strings quando estes não são inteiros ou float \n",
        "a = np.array([1,3,'casa', True])\n",
        "a # esse array nao pode ser multiplicado pois os objetos se tornam do tipo strings "
      ],
      "execution_count": null,
      "outputs": [
        {
          "output_type": "execute_result",
          "data": {
            "text/plain": [
              "array(['1', '3', 'casa', 'True'], dtype='<U21')"
            ]
          },
          "metadata": {
            "tags": []
          },
          "execution_count": 25
        }
      ]
    },
    {
      "cell_type": "markdown",
      "metadata": {
        "id": "peqfJSxJ54uC"
      },
      "source": [
        "## **Métodos e Atributos úteis**"
      ]
    },
    {
      "cell_type": "code",
      "metadata": {
        "id": "mWC_Cma86AEC"
      },
      "source": [
        "# Métodos disponiveis: digite o . e pressione tab\n",
        "# Retorna a forma do array no formato linhas e colunas \n",
        "two_dim.shape\n",
        "# Retorna a quantidade de dimensões \n",
        "two_dim.ndim\n",
        "# Imprimindo o valor máximo do array\n",
        "two_dim.max\n",
        "# Imprimindo o valor mínimo do array \n",
        "two_dim.min\n",
        "# Imprimindo o valor média do array\n",
        "two_dim.mean\n",
        "# Imprimindo o desvio padrão \n",
        "two_dim.std\n",
        "# Retorna quantidade de elementos dentro do array\n",
        "two_dim.size\n",
        "# Retorna a quantidade de itens em bytes\n",
        "two_dim.itemsize\n",
        "# Soma todos os elementos do meu array\n",
        "two_dim.sum"
      ],
      "execution_count": null,
      "outputs": []
    },
    {
      "cell_type": "markdown",
      "metadata": {
        "id": "UYuQ1NeH7Dc8"
      },
      "source": [
        "## **Transformando Arrays**"
      ]
    },
    {
      "cell_type": "code",
      "metadata": {
        "colab": {
          "base_uri": "https://localhost:8080/"
        },
        "id": "CK-VXKYq7J1-",
        "outputId": "81ec426d-db18-4ed3-f6ac-a0008463ba94"
      },
      "source": [
        "# Gerando a transporta da matriz: linha se torna coluna vice versa\n",
        "two_dim.T"
      ],
      "execution_count": null,
      "outputs": [
        {
          "output_type": "execute_result",
          "data": {
            "text/plain": [
              "array([[1, 4],\n",
              "       [2, 5],\n",
              "       [3, 6]])"
            ]
          },
          "metadata": {
            "tags": []
          },
          "execution_count": 27
        }
      ]
    },
    {
      "cell_type": "code",
      "metadata": {
        "colab": {
          "base_uri": "https://localhost:8080/"
        },
        "id": "H-CJuRet7eZG",
        "outputId": "3ab77324-1980-48a1-ecae-2af01da01204"
      },
      "source": [
        "# Transforma em uma matriz de uma linha \n",
        "# É muito comum em bibliotecas como scikit-learn e keras\n",
        "two_dim.reshape(-1)"
      ],
      "execution_count": null,
      "outputs": [
        {
          "output_type": "execute_result",
          "data": {
            "text/plain": [
              "array([1, 2, 3, 4, 5, 6])"
            ]
          },
          "metadata": {
            "tags": []
          },
          "execution_count": 28
        }
      ]
    },
    {
      "cell_type": "code",
      "metadata": {
        "colab": {
          "base_uri": "https://localhost:8080/"
        },
        "id": "Cy4kXQNW7w0m",
        "outputId": "5599a076-e0d8-4c6b-a3d3-4e61569d693b"
      },
      "source": [
        "tree = np.random.random((5,3))\n",
        "tree"
      ],
      "execution_count": null,
      "outputs": [
        {
          "output_type": "execute_result",
          "data": {
            "text/plain": [
              "array([[0.1280694 , 0.81828807, 0.45164973],\n",
              "       [0.85049948, 0.66461029, 0.51642005],\n",
              "       [0.51377537, 0.09585882, 0.04443999],\n",
              "       [0.96696113, 0.91867694, 0.83712342],\n",
              "       [0.84196647, 0.74529457, 0.40060497]])"
            ]
          },
          "metadata": {
            "tags": []
          },
          "execution_count": 31
        }
      ]
    },
    {
      "cell_type": "code",
      "metadata": {
        "colab": {
          "base_uri": "https://localhost:8080/"
        },
        "id": "PqLx-M_o76oA",
        "outputId": "584f5e0c-9458-47da-8888-1756c5c2ba9e"
      },
      "source": [
        "# Transforma em uma matriz com 3 linhas e 5 colunas\n",
        "tree.reshape(3,5)"
      ],
      "execution_count": null,
      "outputs": [
        {
          "output_type": "execute_result",
          "data": {
            "text/plain": [
              "array([[0.1280694 , 0.81828807, 0.45164973, 0.85049948, 0.66461029],\n",
              "       [0.51642005, 0.51377537, 0.09585882, 0.04443999, 0.96696113],\n",
              "       [0.91867694, 0.83712342, 0.84196647, 0.74529457, 0.40060497]])"
            ]
          },
          "metadata": {
            "tags": []
          },
          "execution_count": 32
        }
      ]
    },
    {
      "cell_type": "code",
      "metadata": {
        "colab": {
          "base_uri": "https://localhost:8080/"
        },
        "id": "6Sih1YUM8IZq",
        "outputId": "e7c63b8f-b138-4c87-be7f-6c9b3ddd049c"
      },
      "source": [
        "tree.reshape(-1).shape"
      ],
      "execution_count": null,
      "outputs": [
        {
          "output_type": "execute_result",
          "data": {
            "text/plain": [
              "(15,)"
            ]
          },
          "metadata": {
            "tags": []
          },
          "execution_count": 35
        }
      ]
    },
    {
      "cell_type": "code",
      "metadata": {
        "colab": {
          "base_uri": "https://localhost:8080/"
        },
        "id": "QEDLhp0y8YrV",
        "outputId": "56b2612c-460c-4309-8539-baf123606177"
      },
      "source": [
        "t = tree.reshape(1,15)\n",
        "t"
      ],
      "execution_count": null,
      "outputs": [
        {
          "output_type": "execute_result",
          "data": {
            "text/plain": [
              "array([[0.1280694 , 0.81828807, 0.45164973, 0.85049948, 0.66461029,\n",
              "        0.51642005, 0.51377537, 0.09585882, 0.04443999, 0.96696113,\n",
              "        0.91867694, 0.83712342, 0.84196647, 0.74529457, 0.40060497]])"
            ]
          },
          "metadata": {
            "tags": []
          },
          "execution_count": 37
        }
      ]
    },
    {
      "cell_type": "code",
      "metadata": {
        "colab": {
          "base_uri": "https://localhost:8080/"
        },
        "id": "v3IYH24t8j3U",
        "outputId": "d5e6f1b9-5473-4d44-fa42-8910fe1c7e9f"
      },
      "source": [
        "# Adicionando elementos ao meu array \n",
        "two_dim = np.insert(two_dim,0,10)\n",
        "two_dim"
      ],
      "execution_count": null,
      "outputs": [
        {
          "output_type": "execute_result",
          "data": {
            "text/plain": [
              "array([10,  1,  2,  3,  4,  5,  6])"
            ]
          },
          "metadata": {
            "tags": []
          },
          "execution_count": 38
        }
      ]
    },
    {
      "cell_type": "code",
      "metadata": {
        "colab": {
          "base_uri": "https://localhost:8080/"
        },
        "id": "Y0LdXqGc8ysD",
        "outputId": "20c9cb8d-b24c-49ab-db01-f403dad0ea14"
      },
      "source": [
        "# Apagando o elemento da primeira posição do array \n",
        "two_dim = np.delete(two_dim,[0])\n",
        "two_dim"
      ],
      "execution_count": null,
      "outputs": [
        {
          "output_type": "execute_result",
          "data": {
            "text/plain": [
              "array([1, 2, 3, 4, 5, 6])"
            ]
          },
          "metadata": {
            "tags": []
          },
          "execution_count": 40
        }
      ]
    },
    {
      "cell_type": "code",
      "metadata": {
        "id": "T6q06xF38-h_"
      },
      "source": [
        "# Gerando um arquivo .txt para salvar um array\n",
        "np.savetxt(\"dataset_array.txt\",two_dim, delimiter=',')"
      ],
      "execution_count": null,
      "outputs": []
    },
    {
      "cell_type": "markdown",
      "metadata": {
        "id": "cAqtuyZF9ab2"
      },
      "source": [
        "## **Acessando Dimensões no Array**"
      ]
    },
    {
      "cell_type": "code",
      "metadata": {
        "id": "47vWnscq9fe6"
      },
      "source": [
        "# Importando a biblioteca\n",
        "import numpy as np"
      ],
      "execution_count": null,
      "outputs": []
    },
    {
      "cell_type": "code",
      "metadata": {
        "colab": {
          "base_uri": "https://localhost:8080/"
        },
        "id": "cu-TRv8v9ldN",
        "outputId": "2d35a123-9789-4b7e-a8ce-2e9a744aab54"
      },
      "source": [
        "my_array = np.random.random([10,2])\n",
        "my_array"
      ],
      "execution_count": null,
      "outputs": [
        {
          "output_type": "execute_result",
          "data": {
            "text/plain": [
              "array([[0.22685318, 0.0131604 ],\n",
              "       [0.45488362, 0.87215523],\n",
              "       [0.18274322, 0.87471007],\n",
              "       [0.49459873, 0.02484919],\n",
              "       [0.60591565, 0.11137416],\n",
              "       [0.20719825, 0.481028  ],\n",
              "       [0.26486289, 0.36878107],\n",
              "       [0.59759049, 0.32375299],\n",
              "       [0.7527053 , 0.47199114],\n",
              "       [0.82911828, 0.93892913]])"
            ]
          },
          "metadata": {
            "tags": []
          },
          "execution_count": 44
        }
      ]
    },
    {
      "cell_type": "code",
      "metadata": {
        "colab": {
          "base_uri": "https://localhost:8080/"
        },
        "id": "oTL1EfgD9zxE",
        "outputId": "da9e31b9-742a-425e-ea87-50214523c994"
      },
      "source": [
        "# Imprimindo o primeiro elemento: 1 linha\n",
        "my_array[0]"
      ],
      "execution_count": null,
      "outputs": [
        {
          "output_type": "execute_result",
          "data": {
            "text/plain": [
              "array([0.14449704, 0.64297676])"
            ]
          },
          "metadata": {
            "tags": []
          },
          "execution_count": 43
        }
      ]
    },
    {
      "cell_type": "code",
      "metadata": {
        "colab": {
          "base_uri": "https://localhost:8080/"
        },
        "id": "A7S0I0cA97Z8",
        "outputId": "4d2f87f4-aa9d-4930-a77a-fee4e8c96f68"
      },
      "source": [
        "# Imprimindo o primeiro elemento da coluna 0\n",
        "my_array[0][0]"
      ],
      "execution_count": null,
      "outputs": [
        {
          "output_type": "execute_result",
          "data": {
            "text/plain": [
              "0.22685318280691869"
            ]
          },
          "metadata": {
            "tags": []
          },
          "execution_count": 45
        }
      ]
    },
    {
      "cell_type": "code",
      "metadata": {
        "colab": {
          "base_uri": "https://localhost:8080/"
        },
        "id": "Vk-bBn3g-GEM",
        "outputId": "48a35dd2-1e1d-4e0b-97d4-5cbeebfe216c"
      },
      "source": [
        "# Imprimindo o primeiro elemento da coluna 1 \n",
        "my_array[0][1]"
      ],
      "execution_count": null,
      "outputs": [
        {
          "output_type": "execute_result",
          "data": {
            "text/plain": [
              "0.013160395552135329"
            ]
          },
          "metadata": {
            "tags": []
          },
          "execution_count": 46
        }
      ]
    },
    {
      "cell_type": "code",
      "metadata": {
        "colab": {
          "base_uri": "https://localhost:8080/"
        },
        "id": "tuqT8dL6-XAM",
        "outputId": "f72ca72b-59a0-4eaa-d761-809e7092c607"
      },
      "source": [
        "# Segundo elemento da coluna com vírgula, o resultado é o mesmo mas a sintaxe é mais simples \n",
        "my_array[1,1]"
      ],
      "execution_count": null,
      "outputs": [
        {
          "output_type": "execute_result",
          "data": {
            "text/plain": [
              "0.8721552346956186"
            ]
          },
          "metadata": {
            "tags": []
          },
          "execution_count": 47
        }
      ]
    },
    {
      "cell_type": "code",
      "metadata": {
        "colab": {
          "base_uri": "https://localhost:8080/"
        },
        "id": "paOgJ5og-jdf",
        "outputId": "f94a5939-4375-47fc-a70e-3dbb093c795e"
      },
      "source": [
        "# Imprimindo ate 3 valores da coluna 1\n",
        "my_array[:3,1]"
      ],
      "execution_count": null,
      "outputs": [
        {
          "output_type": "execute_result",
          "data": {
            "text/plain": [
              "array([0.0131604 , 0.87215523, 0.87471007])"
            ]
          },
          "metadata": {
            "tags": []
          },
          "execution_count": 48
        }
      ]
    },
    {
      "cell_type": "code",
      "metadata": {
        "colab": {
          "base_uri": "https://localhost:8080/"
        },
        "id": "8rxhjBh6-u_n",
        "outputId": "ba5bb5ea-a5e5-4dc5-ef9d-b34c1bc57a2a"
      },
      "source": [
        "# Imprimindo todas as linhas da coluna 2 * 10\n",
        "my_array[:,1] * 10"
      ],
      "execution_count": null,
      "outputs": [
        {
          "output_type": "execute_result",
          "data": {
            "text/plain": [
              "array([0.13160396, 8.72155235, 8.74710071, 0.24849194, 1.11374157,\n",
              "       4.81028004, 3.68781071, 3.23752986, 4.71991135, 9.38929131])"
            ]
          },
          "metadata": {
            "tags": []
          },
          "execution_count": 49
        }
      ]
    },
    {
      "cell_type": "code",
      "metadata": {
        "colab": {
          "base_uri": "https://localhost:8080/"
        },
        "id": "Bg7j9qlG--h5",
        "outputId": "5d822b2e-fa11-4c50-95d2-acf217da627b"
      },
      "source": [
        "# Comparação retorna indices \n",
        "my_array > 0.5"
      ],
      "execution_count": null,
      "outputs": [
        {
          "output_type": "execute_result",
          "data": {
            "text/plain": [
              "array([[False, False],\n",
              "       [False,  True],\n",
              "       [False,  True],\n",
              "       [False, False],\n",
              "       [ True, False],\n",
              "       [False, False],\n",
              "       [False, False],\n",
              "       [ True, False],\n",
              "       [ True, False],\n",
              "       [ True,  True]])"
            ]
          },
          "metadata": {
            "tags": []
          },
          "execution_count": 51
        }
      ]
    },
    {
      "cell_type": "code",
      "metadata": {
        "colab": {
          "base_uri": "https://localhost:8080/"
        },
        "id": "BJabUlCm_L0Y",
        "outputId": "583c9550-254b-432b-d310-da786249256c"
      },
      "source": [
        "# Acessando valores por indices\n",
        "my_array[my_array > 0.50]"
      ],
      "execution_count": null,
      "outputs": [
        {
          "output_type": "execute_result",
          "data": {
            "text/plain": [
              "array([0.87215523, 0.87471007, 0.60591565, 0.59759049, 0.7527053 ,\n",
              "       0.82911828, 0.93892913])"
            ]
          },
          "metadata": {
            "tags": []
          },
          "execution_count": 52
        }
      ]
    },
    {
      "cell_type": "markdown",
      "metadata": {
        "id": "vt5D1aGV_aOB"
      },
      "source": [
        "# **Carregar Arrays Numpy a partir de Arquivos de Texto**"
      ]
    },
    {
      "cell_type": "code",
      "metadata": {
        "id": "VsqWl1T1_hI6"
      },
      "source": [
        "import numpy as np"
      ],
      "execution_count": null,
      "outputs": []
    },
    {
      "cell_type": "code",
      "metadata": {
        "colab": {
          "base_uri": "https://localhost:8080/"
        },
        "id": "HxDhCaUh_mRL",
        "outputId": "6af8aab6-ba97-4fe4-9813-f4777c959c45"
      },
      "source": [
        "# Lendo um arquivo do tipo .txt\n",
        "dataset = np.loadtxt('dataset_array.txt', delimiter=',')\n",
        "dataset.shape"
      ],
      "execution_count": null,
      "outputs": [
        {
          "output_type": "execute_result",
          "data": {
            "text/plain": [
              "(6,)"
            ]
          },
          "metadata": {
            "tags": []
          },
          "execution_count": 56
        }
      ]
    },
    {
      "cell_type": "code",
      "metadata": {
        "id": "C0hr6IGm_7dh"
      },
      "source": [
        "# Carregando arquivo dividido em 3 arrays: precisa ter o arquivo no drive \n",
        "a,b,c = np.loadtxt('dataset_valores.txt', skiprows=1, unpack=True)\n",
        "# spirows: a primeira linha é o título\n",
        "# unpack: desconpactar o array e transformar em 3"
      ],
      "execution_count": null,
      "outputs": []
    },
    {
      "cell_type": "code",
      "metadata": {
        "id": "u5aRyLLwA-kh"
      },
      "source": [
        "# Carrega o arquivo ignorando as 2 primeiras linhas e preenchendo os valores vazios por 0\n",
        "# obs: os valores string tambem são convertidos \n",
        "\n",
        "dataset = np.genfromtxt('dataset_valores.txt', skip_header=2, filling_values=0)\n",
        "# skip_header: pega sempre as primeiras linhas "
      ],
      "execution_count": null,
      "outputs": []
    }
  ]
}